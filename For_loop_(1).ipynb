{
  "nbformat": 4,
  "nbformat_minor": 0,
  "metadata": {
    "colab": {
      "name": "For_loop (1).ipynb",
      "provenance": [],
      "collapsed_sections": [],
      "include_colab_link": true
    },
    "kernelspec": {
      "name": "python3",
      "display_name": "Python 3"
    },
    "language_info": {
      "name": "python"
    }
  },
  "cells": [
    {
      "cell_type": "markdown",
      "metadata": {
        "id": "view-in-github",
        "colab_type": "text"
      },
      "source": [
        "<a href=\"https://colab.research.google.com/github/MahEUrooj/For-loop/blob/main/For_loop_(1).ipynb\" target=\"_parent\"><img src=\"https://colab.research.google.com/assets/colab-badge.svg\" alt=\"Open In Colab\"/></a>"
      ]
    },
    {
      "cell_type": "code",
      "execution_count": null,
      "metadata": {
        "colab": {
          "base_uri": "https://localhost:8080/"
        },
        "id": "TAQN7bGfYukk",
        "outputId": "cb2d06d1-ffa7-4bab-a21e-a1738e37fb50"
      },
      "outputs": [
        {
          "output_type": "stream",
          "name": "stdout",
          "text": [
            "honda\n",
            "toyota\n",
            "audi\n",
            "bmw\n",
            "loop completed\n"
          ]
        }
      ],
      "source": [
        "cars=['bmw','audi','toyota','honda']\n",
        "cars[:]\n",
        "for car in reversed(cars):\n",
        "  print(car)\n",
        "print(\"loop completed\")"
      ]
    },
    {
      "cell_type": "code",
      "source": [
        "vege=[\"spinach\",\"ladyfinger\",\"potato\",\"onion\",\"beetroot\"]\n",
        "vege.reverse()\n",
        "vege[:]\n"
      ],
      "metadata": {
        "colab": {
          "base_uri": "https://localhost:8080/"
        },
        "id": "lpVCkzxzZMzh",
        "outputId": "b4f678c9-f904-448d-dd06-a04d4dc5a458"
      },
      "execution_count": null,
      "outputs": [
        {
          "output_type": "execute_result",
          "data": {
            "text/plain": [
              "['beetroot', 'onion', 'potato', 'ladyfinger', 'spinach']"
            ]
          },
          "metadata": {},
          "execution_count": 9
        }
      ]
    },
    {
      "cell_type": "code",
      "source": [
        "fruits=['pineapple','blue-berry','strawberry','banana']\n",
        "fruits.reverse()\n",
        "for fruit in fruits:\n",
        "  print(fruit)"
      ],
      "metadata": {
        "colab": {
          "base_uri": "https://localhost:8080/"
        },
        "id": "7SxY5etRZ2e0",
        "outputId": "7a65e72f-3b77-44a2-b217-bdb02ad6c217"
      },
      "execution_count": null,
      "outputs": [
        {
          "output_type": "stream",
          "name": "stdout",
          "text": [
            "banana\n",
            "strawberry\n",
            "blue-berry\n",
            "pineapple\n"
          ]
        }
      ]
    },
    {
      "cell_type": "code",
      "source": [
        "squares=[]\n",
        "for value in range (1,11):\n",
        "  squares.append(value**2)\n",
        "  print(squares)\n",
        "\n"
      ],
      "metadata": {
        "colab": {
          "base_uri": "https://localhost:8080/"
        },
        "id": "jhKGJydFarmo",
        "outputId": "cab88ae1-5813-4a7c-db43-ba051a3662b0"
      },
      "execution_count": null,
      "outputs": [
        {
          "output_type": "stream",
          "name": "stdout",
          "text": [
            "[1]\n",
            "[1, 4]\n",
            "[1, 4, 9]\n",
            "[1, 4, 9, 16]\n",
            "[1, 4, 9, 16, 25]\n",
            "[1, 4, 9, 16, 25, 36]\n",
            "[1, 4, 9, 16, 25, 36, 49]\n",
            "[1, 4, 9, 16, 25, 36, 49, 64]\n",
            "[1, 4, 9, 16, 25, 36, 49, 64, 81]\n",
            "[1, 4, 9, 16, 25, 36, 49, 64, 81, 100]\n"
          ]
        }
      ]
    },
    {
      "cell_type": "code",
      "source": [
        "numb=[]\n",
        "for value in range(1,11):\n",
        "  numb.append(value)\n",
        "  print(numb)"
      ],
      "metadata": {
        "colab": {
          "base_uri": "https://localhost:8080/"
        },
        "id": "mdVHoQT0bZVn",
        "outputId": "6ac22edd-c96c-441c-b7c2-07bb5ec3e148"
      },
      "execution_count": null,
      "outputs": [
        {
          "output_type": "stream",
          "name": "stdout",
          "text": [
            "[1]\n",
            "[1, 2]\n",
            "[1, 2, 3]\n",
            "[1, 2, 3, 4]\n",
            "[1, 2, 3, 4, 5]\n",
            "[1, 2, 3, 4, 5, 6]\n",
            "[1, 2, 3, 4, 5, 6, 7]\n",
            "[1, 2, 3, 4, 5, 6, 7, 8]\n",
            "[1, 2, 3, 4, 5, 6, 7, 8, 9]\n",
            "[1, 2, 3, 4, 5, 6, 7, 8, 9, 10]\n"
          ]
        }
      ]
    },
    {
      "cell_type": "code",
      "source": [
        "[2*i for i in range (1,6)]\n"
      ],
      "metadata": {
        "colab": {
          "base_uri": "https://localhost:8080/"
        },
        "id": "jAWRhX9qbylQ",
        "outputId": "e82b7fe7-683a-4835-9d77-77ef1101b3f3"
      },
      "execution_count": null,
      "outputs": [
        {
          "output_type": "execute_result",
          "data": {
            "text/plain": [
              "[2, 4, 6, 8, 10]"
            ]
          },
          "metadata": {},
          "execution_count": 17
        }
      ]
    },
    {
      "cell_type": "code",
      "source": [
        "v=[2 for i in range (1,6)]\n",
        "print(v)"
      ],
      "metadata": {
        "colab": {
          "base_uri": "https://localhost:8080/"
        },
        "id": "dNsOJOfmcbXC",
        "outputId": "13a4a673-fb61-4834-d4dd-82bea4b6880a"
      },
      "execution_count": null,
      "outputs": [
        {
          "output_type": "stream",
          "name": "stdout",
          "text": [
            "[2, 2, 2, 2, 2]\n"
          ]
        }
      ]
    },
    {
      "cell_type": "code",
      "source": [
        "squares=[value**2 for value in range (1,11)]\n",
        "print(squares)"
      ],
      "metadata": {
        "colab": {
          "base_uri": "https://localhost:8080/"
        },
        "id": "76dMgSQectWF",
        "outputId": "3e115802-6235-4cdb-8975-7a44d38ebf9f"
      },
      "execution_count": null,
      "outputs": [
        {
          "output_type": "stream",
          "name": "stdout",
          "text": [
            "[1, 4, 9, 16, 25, 36, 49, 64, 81, 100]\n"
          ]
        }
      ]
    },
    {
      "cell_type": "code",
      "source": [
        "for i in range(5):\n",
        "  print(\"IOT\")"
      ],
      "metadata": {
        "colab": {
          "base_uri": "https://localhost:8080/"
        },
        "id": "6gwRy5uJdIlp",
        "outputId": "c6e2a9c1-0bf8-4690-9c87-7ebe27dbb223"
      },
      "execution_count": null,
      "outputs": [
        {
          "output_type": "stream",
          "name": "stdout",
          "text": [
            "IOT\n",
            "IOT\n",
            "IOT\n",
            "IOT\n",
            "IOT\n"
          ]
        }
      ]
    },
    {
      "cell_type": "code",
      "source": [
        "for i in range(3,5):\n",
        "  print(\"IOT\")"
      ],
      "metadata": {
        "colab": {
          "base_uri": "https://localhost:8080/"
        },
        "id": "ojxL509wglG-",
        "outputId": "9983766e-a54c-4966-a19b-0e471205436b"
      },
      "execution_count": null,
      "outputs": [
        {
          "output_type": "stream",
          "name": "stdout",
          "text": [
            "IOT\n",
            "IOT\n"
          ]
        }
      ]
    },
    {
      "cell_type": "code",
      "source": [
        "for i in range(3,5):\n",
        "  print(i)\n"
      ],
      "metadata": {
        "colab": {
          "base_uri": "https://localhost:8080/"
        },
        "id": "dlU2QkThgvIf",
        "outputId": "f06d229e-e8f9-4a8e-df05-5ae62d334682"
      },
      "execution_count": null,
      "outputs": [
        {
          "output_type": "stream",
          "name": "stdout",
          "text": [
            "3\n",
            "4\n"
          ]
        }
      ]
    },
    {
      "cell_type": "code",
      "source": [
        "for i in range(0,7):\n",
        "  print(i)"
      ],
      "metadata": {
        "colab": {
          "base_uri": "https://localhost:8080/"
        },
        "id": "_IrZVgtihFU6",
        "outputId": "07bc8b6a-8f1c-4e6c-ba27-99b4c405149f"
      },
      "execution_count": null,
      "outputs": [
        {
          "output_type": "stream",
          "name": "stdout",
          "text": [
            "0\n",
            "1\n",
            "2\n",
            "3\n",
            "4\n",
            "5\n",
            "6\n"
          ]
        }
      ]
    },
    {
      "cell_type": "code",
      "source": [
        "for i in range(2,5):\n",
        "  print('Tulip')"
      ],
      "metadata": {
        "colab": {
          "base_uri": "https://localhost:8080/"
        },
        "id": "9qxSWpaIhZp0",
        "outputId": "e9a77f36-d7ff-4c35-8d6c-19ecfb639de6"
      },
      "execution_count": null,
      "outputs": [
        {
          "output_type": "stream",
          "name": "stdout",
          "text": [
            "Tulip\n",
            "Tulip\n",
            "Tulip\n"
          ]
        }
      ]
    },
    {
      "cell_type": "code",
      "source": [
        "for i in range(1,5):\n",
        "  print(\"Technology\")"
      ],
      "metadata": {
        "colab": {
          "base_uri": "https://localhost:8080/"
        },
        "id": "R6pEW_W4hzC1",
        "outputId": "39f6ffcc-c4b2-4352-c532-f81dd6284b42"
      },
      "execution_count": null,
      "outputs": [
        {
          "output_type": "stream",
          "name": "stdout",
          "text": [
            "Technology\n",
            "Technology\n",
            "Technology\n",
            "Technology\n"
          ]
        }
      ]
    },
    {
      "cell_type": "code",
      "source": [
        "for i in range(4):\n",
        "  print('*')"
      ],
      "metadata": {
        "colab": {
          "base_uri": "https://localhost:8080/"
        },
        "id": "Ol1Ew8UwiT_R",
        "outputId": "d0af8a60-b4b6-4249-d465-b164cbe276a5"
      },
      "execution_count": null,
      "outputs": [
        {
          "output_type": "stream",
          "name": "stdout",
          "text": [
            "*\n",
            "*\n",
            "*\n",
            "*\n"
          ]
        }
      ]
    },
    {
      "cell_type": "code",
      "source": [
        "for i in range(7,13):\n",
        "  print('Scientist')"
      ],
      "metadata": {
        "colab": {
          "base_uri": "https://localhost:8080/"
        },
        "id": "xZRwOrzvidjL",
        "outputId": "f98ea187-760e-4b07-bb6f-c590d3ef2b8d"
      },
      "execution_count": null,
      "outputs": [
        {
          "output_type": "stream",
          "name": "stdout",
          "text": [
            "Scientist\n",
            "Scientist\n",
            "Scientist\n",
            "Scientist\n",
            "Scientist\n",
            "Scientist\n"
          ]
        }
      ]
    },
    {
      "cell_type": "code",
      "source": [
        "for i in range(3,7):\n",
        "  print('***Scientific\\t Discovery***')"
      ],
      "metadata": {
        "colab": {
          "base_uri": "https://localhost:8080/"
        },
        "id": "0UWd72rJiyOp",
        "outputId": "bca2d07e-4af8-4288-911b-ff239d0d183b"
      },
      "execution_count": null,
      "outputs": [
        {
          "output_type": "stream",
          "name": "stdout",
          "text": [
            "***Scientific\t Discovery***\n",
            "***Scientific\t Discovery***\n",
            "***Scientific\t Discovery***\n",
            "***Scientific\t Discovery***\n"
          ]
        }
      ]
    },
    {
      "cell_type": "code",
      "source": [
        "for i in range(3,10,2):\n",
        "  print(i)"
      ],
      "metadata": {
        "colab": {
          "base_uri": "https://localhost:8080/"
        },
        "id": "dZTWsDYUjSJ8",
        "outputId": "69492bf4-97b0-46c8-be69-f4219cbecae4"
      },
      "execution_count": null,
      "outputs": [
        {
          "output_type": "stream",
          "name": "stdout",
          "text": [
            "3\n",
            "5\n",
            "7\n",
            "9\n"
          ]
        }
      ]
    },
    {
      "cell_type": "code",
      "source": [
        "for i in range(5,55,5):\n",
        "  print(\"Multiple of 5 is:\",i)"
      ],
      "metadata": {
        "colab": {
          "base_uri": "https://localhost:8080/"
        },
        "id": "PABPqFe7j8sJ",
        "outputId": "556da41a-bbfe-4562-cec8-ce13461ffa9e"
      },
      "execution_count": null,
      "outputs": [
        {
          "output_type": "stream",
          "name": "stdout",
          "text": [
            "Multiple of 5 is: 5\n",
            "Multiple of 5 is: 10\n",
            "Multiple of 5 is: 15\n",
            "Multiple of 5 is: 20\n",
            "Multiple of 5 is: 25\n",
            "Multiple of 5 is: 30\n",
            "Multiple of 5 is: 35\n",
            "Multiple of 5 is: 40\n",
            "Multiple of 5 is: 45\n",
            "Multiple of 5 is: 50\n"
          ]
        }
      ]
    },
    {
      "cell_type": "code",
      "source": [
        "for i in range(9,1,-2):\n",
        "  print(i)"
      ],
      "metadata": {
        "colab": {
          "base_uri": "https://localhost:8080/"
        },
        "id": "-oBWDf8QkYeM",
        "outputId": "f4a27a1a-772b-4a9a-be52-9a34d32b08ac"
      },
      "execution_count": null,
      "outputs": [
        {
          "output_type": "stream",
          "name": "stdout",
          "text": [
            "9\n",
            "7\n",
            "5\n",
            "3\n"
          ]
        }
      ]
    },
    {
      "cell_type": "code",
      "source": [
        "for i in range(9,2,-2):\n",
        "  print(i)"
      ],
      "metadata": {
        "colab": {
          "base_uri": "https://localhost:8080/"
        },
        "id": "P6sHlab4knqR",
        "outputId": "63b9370c-d7e6-4ace-f789-fc2aaf2efdbb"
      },
      "execution_count": null,
      "outputs": [
        {
          "output_type": "stream",
          "name": "stdout",
          "text": [
            "9\n",
            "7\n",
            "5\n",
            "3\n"
          ]
        }
      ]
    },
    {
      "cell_type": "code",
      "source": [
        "for i in range(30,3,-3):\n",
        "  print(\"Multiple of 3\",i)"
      ],
      "metadata": {
        "colab": {
          "base_uri": "https://localhost:8080/"
        },
        "id": "45t_MTGElj8g",
        "outputId": "c6232825-dacd-408c-ce4e-31951fa8be89"
      },
      "execution_count": null,
      "outputs": [
        {
          "output_type": "stream",
          "name": "stdout",
          "text": [
            "Multiple of 3 30\n",
            "Multiple of 3 27\n",
            "Multiple of 3 24\n",
            "Multiple of 3 21\n",
            "Multiple of 3 18\n",
            "Multiple of 3 15\n",
            "Multiple of 3 12\n",
            "Multiple of 3 9\n",
            "Multiple of 3 6\n"
          ]
        }
      ]
    },
    {
      "cell_type": "code",
      "source": [
        "num=int(input(\"Enter any number\"))\n",
        "for i in range(1,11):\n",
        "  print(num, \"x\",i,\"=\",num*i)"
      ],
      "metadata": {
        "colab": {
          "base_uri": "https://localhost:8080/"
        },
        "id": "sSZzlvcNl72c",
        "outputId": "8b5336e6-dc63-4ca0-c8ed-0280eec093d2"
      },
      "execution_count": null,
      "outputs": [
        {
          "output_type": "stream",
          "name": "stdout",
          "text": [
            "Enter any number15\n",
            "15 x  1 = 15\n",
            "15 x  2 = 30\n",
            "15 x  3 = 45\n",
            "15 x  4 = 60\n",
            "15 x  5 = 75\n",
            "15 x  6 = 90\n",
            "15 x  7 = 105\n",
            "15 x  8 = 120\n",
            "15 x  9 = 135\n",
            "15 x  10 = 150\n"
          ]
        }
      ]
    },
    {
      "cell_type": "code",
      "source": [
        "for i in range(1,11):\n",
        "  print(\"2 x \",i,\"=\",2*i)"
      ],
      "metadata": {
        "colab": {
          "base_uri": "https://localhost:8080/"
        },
        "id": "Ff0nQqmsmekP",
        "outputId": "861e09cd-2670-4f87-eb10-02241e8f50f9"
      },
      "execution_count": null,
      "outputs": [
        {
          "output_type": "stream",
          "name": "stdout",
          "text": [
            "2 x  1 = 2\n",
            "2 x  2 = 4\n",
            "2 x  3 = 6\n",
            "2 x  4 = 8\n",
            "2 x  5 = 10\n",
            "2 x  6 = 12\n",
            "2 x  7 = 14\n",
            "2 x  8 = 16\n",
            "2 x  9 = 18\n",
            "2 x  10 = 20\n"
          ]
        }
      ]
    },
    {
      "cell_type": "code",
      "source": [
        "l1=[]\n",
        "l1=[x for x in range (11)]\n",
        "print(l1)"
      ],
      "metadata": {
        "id": "hkRswBRcm3L0",
        "colab": {
          "base_uri": "https://localhost:8080/"
        },
        "outputId": "048ca21e-8240-488d-a772-b2205e0abaad"
      },
      "execution_count": null,
      "outputs": [
        {
          "output_type": "stream",
          "name": "stdout",
          "text": [
            "[0, 1, 2, 3, 4, 5, 6, 7, 8, 9, 10]\n"
          ]
        }
      ]
    },
    {
      "cell_type": "code",
      "source": [
        "zero_list=[]\n",
        "zero_list=[0 for x in range (5)]\n",
        "print(zero_list)"
      ],
      "metadata": {
        "colab": {
          "base_uri": "https://localhost:8080/"
        },
        "id": "fk2T7Cf2PWsD",
        "outputId": "708ec2a9-bc2c-4d49-8094-07d3650aa19d"
      },
      "execution_count": null,
      "outputs": [
        {
          "output_type": "stream",
          "name": "stdout",
          "text": [
            "[0, 0, 0, 0, 0]\n"
          ]
        }
      ]
    },
    {
      "cell_type": "code",
      "source": [
        "squares=[]\n",
        "squares=[value**2 for value in range(8)]\n",
        "print(squares)"
      ],
      "metadata": {
        "colab": {
          "base_uri": "https://localhost:8080/"
        },
        "id": "ellK8Zj2Pmul",
        "outputId": "f9cee9ea-cfa6-424d-c4ac-a844785d2a90"
      },
      "execution_count": null,
      "outputs": [
        {
          "output_type": "stream",
          "name": "stdout",
          "text": [
            "[0, 1, 4, 9, 16, 25, 36, 49]\n"
          ]
        }
      ]
    },
    {
      "cell_type": "code",
      "source": [
        "my_foods=['pizza','falafel','carrot cake']\n",
        "friend_foods=my_foods[:]\n",
        "print('My favorite foods are')\n",
        "print(friend_foods)\n",
        "my_foods.append('cannoli')\n",
        "friend_foods.append('icecream')\n",
        "print('Now my favorite foods are')\n",
        "print(my_foods)\n",
        "print('Now, my friend favorite foods are')\n",
        "print(friend_foods)\n",
        "\n"
      ],
      "metadata": {
        "colab": {
          "base_uri": "https://localhost:8080/"
        },
        "id": "NOgk6hc0P39w",
        "outputId": "09b14780-4f94-46de-ecb7-2b20f0cc66f8"
      },
      "execution_count": null,
      "outputs": [
        {
          "output_type": "stream",
          "name": "stdout",
          "text": [
            "My favorite foods are\n",
            "['pizza', 'falafel', 'carrot cake']\n",
            "Now my favorite foods are\n",
            "['pizza', 'falafel', 'carrot cake', 'cannoli']\n",
            "Now, my friend favorite foods are\n",
            "['pizza', 'falafel', 'carrot cake', 'icecream']\n"
          ]
        }
      ]
    },
    {
      "cell_type": "code",
      "source": [
        "my_foods=['pizza','falafel','carrot cake']\n",
        "friend_foods=my_foods\n",
        "print('My favorite foods are')\n",
        "print(friend_foods)\n",
        "my_foods.append('cannoli')\n",
        "friend_foods.append('icecream')\n",
        "print('Now my favorite foods are')\n",
        "print(my_foods)\n",
        "print('Now, my friend favorite foods are')\n",
        "print(friend_foods)"
      ],
      "metadata": {
        "colab": {
          "base_uri": "https://localhost:8080/"
        },
        "id": "kl-lDdvEQv2n",
        "outputId": "b0349860-1f70-4c65-8c7c-81af68970957"
      },
      "execution_count": null,
      "outputs": [
        {
          "output_type": "stream",
          "name": "stdout",
          "text": [
            "My favorite foods are\n",
            "['pizza', 'falafel', 'carrot cake']\n",
            "Now my favorite foods are\n",
            "['pizza', 'falafel', 'carrot cake', 'cannoli', 'icecream']\n",
            "Now, my friend favorite foods are\n",
            "['pizza', 'falafel', 'carrot cake', 'cannoli', 'icecream']\n"
          ]
        }
      ]
    },
    {
      "cell_type": "code",
      "source": [
        "cars=['audi','bmw','honda','toyota']\n",
        "for car in cars:\n",
        "  if car=='bmw':\n",
        "    print(car.upper())\n",
        "    \n",
        "  else:\n",
        "    print(car.title())"
      ],
      "metadata": {
        "colab": {
          "base_uri": "https://localhost:8080/"
        },
        "id": "aydXzFucQ9GW",
        "outputId": "d4c91a73-d0f1-48ce-83dd-9261ee4432ea"
      },
      "execution_count": null,
      "outputs": [
        {
          "output_type": "stream",
          "name": "stdout",
          "text": [
            "Audi\n",
            "BMW\n",
            "Honda\n",
            "Toyota\n"
          ]
        }
      ]
    },
    {
      "cell_type": "code",
      "source": [
        "age_1=22\n",
        "age_2=18\n",
        "print((age_1>=21) and (age_2>=21))"
      ],
      "metadata": {
        "colab": {
          "base_uri": "https://localhost:8080/"
        },
        "id": "ngURwbxUReYA",
        "outputId": "91497f37-4175-4de9-dbf7-3aac338bc4df"
      },
      "execution_count": null,
      "outputs": [
        {
          "output_type": "stream",
          "name": "stdout",
          "text": [
            "False\n"
          ]
        }
      ]
    },
    {
      "cell_type": "code",
      "source": [
        "age_1=22\n",
        "age_2=18\n",
        "print((age_1>=21) and (age_2<=21))\n"
      ],
      "metadata": {
        "colab": {
          "base_uri": "https://localhost:8080/"
        },
        "id": "MipPkafFR8EQ",
        "outputId": "0269ba65-8212-4cf5-c82f-19166a5d65f8"
      },
      "execution_count": null,
      "outputs": [
        {
          "output_type": "stream",
          "name": "stdout",
          "text": [
            "True\n"
          ]
        }
      ]
    },
    {
      "cell_type": "code",
      "source": [
        "age_1=22\n",
        "age_2=18\n",
        "print((age_1<21) or (age_2>=21))"
      ],
      "metadata": {
        "colab": {
          "base_uri": "https://localhost:8080/"
        },
        "id": "sopJiNhwSEz-",
        "outputId": "3d50caec-bf3e-4685-f204-1e2f5bd2f2e7"
      },
      "execution_count": null,
      "outputs": [
        {
          "output_type": "stream",
          "name": "stdout",
          "text": [
            "False\n"
          ]
        }
      ]
    },
    {
      "cell_type": "code",
      "source": [
        "age=12\n",
        "if age<4:\n",
        "  price=1000\n",
        "elif age<18:\n",
        "  price=2000\n",
        "elif age<65:\n",
        "  price=3000\n",
        "else:\n",
        "  price=4000\n",
        "print(\"Your admission cost is $ \"+ str (price) + \".\")"
      ],
      "metadata": {
        "colab": {
          "base_uri": "https://localhost:8080/"
        },
        "id": "bU0xGGBwSeCv",
        "outputId": "7d936c42-152d-4463-f32d-d7061f30ee54"
      },
      "execution_count": null,
      "outputs": [
        {
          "output_type": "stream",
          "name": "stdout",
          "text": [
            "Your admission cost is $ 2000.\n"
          ]
        }
      ]
    },
    {
      "cell_type": "code",
      "source": [
        "cleanest_cities=['Murree','Karachi','Lahore']\n",
        "city_to_check=input(\"Enter city name: \")\n",
        "for i in cleanest_cities:\n",
        "  if city_to_check == i:\n",
        "    print(i, \"is one of the cleanest cities.\")\n",
        "  else:\n",
        "    print(i, \"is not a clean city.\")\n",
        "    \n",
        "\n"
      ],
      "metadata": {
        "id": "vxuEturNTKT_",
        "colab": {
          "base_uri": "https://localhost:8080/"
        },
        "outputId": "3f1fe716-1928-463f-cff6-5460bb4745a9"
      },
      "execution_count": 13,
      "outputs": [
        {
          "output_type": "stream",
          "name": "stdout",
          "text": [
            "Enter city name: Murree\n",
            "Murree is one of the cleanest cities.\n",
            "Karachi is not a clean city.\n",
            "Lahore is not a clean city.\n"
          ]
        }
      ]
    },
    {
      "cell_type": "code",
      "source": [
        "cleanest_cities=['Murree','Karachi','Lahore']\n",
        "city_to_check=input(\"Enter city name: \")\n",
        "for i in cleanest_cities:\n",
        "  if city_to_check == i:\n",
        "    print(i, \"is one of the cleanest cities.\")\n",
        "    break\n",
        "  else:\n",
        "    print(i, \"is not a clean city.\")\n",
        "    pass\n"
      ],
      "metadata": {
        "colab": {
          "base_uri": "https://localhost:8080/"
        },
        "id": "fh8RvGOYVUfC",
        "outputId": "c4f0428a-3c45-4666-acd3-3fdfcf1a4d39"
      },
      "execution_count": 14,
      "outputs": [
        {
          "output_type": "stream",
          "name": "stdout",
          "text": [
            "Enter city name: Murree\n",
            "Murree is one of the cleanest cities.\n"
          ]
        }
      ]
    },
    {
      "cell_type": "code",
      "source": [
        ""
      ],
      "metadata": {
        "id": "a4dVWJzoZCHL"
      },
      "execution_count": null,
      "outputs": []
    }
  ]
}